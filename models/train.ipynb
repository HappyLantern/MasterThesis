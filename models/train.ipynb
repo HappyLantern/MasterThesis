{
 "cells": [
  {
   "cell_type": "markdown",
   "metadata": {},
   "source": [
    "# Model training and evaluation"
   ]
  },
  {
   "cell_type": "markdown",
   "metadata": {},
   "source": [
    "## Imports and dependencies"
   ]
  },
  {
   "cell_type": "code",
   "execution_count": 1,
   "metadata": {},
   "outputs": [
    {
     "name": "stderr",
     "output_type": "stream",
     "text": [
      "Using TensorFlow backend.\n"
     ]
    }
   ],
   "source": [
    "import configparser, json, os, random\n",
    "import tensorflow as tf\n",
    "import pandas as pd\n",
    "import seaborn as sn\n",
    "import matplotlib.pyplot as plt\n",
    "import numpy as np\n",
    "from keras import optimizers\n",
    "from keras.callbacks import EarlyStopping, ModelCheckpoint\n",
    "from keras.callbacks import CSVLogger\n",
    "from keras.callbacks import ReduceLROnPlateau\n",
    "from model_builder import ModelBuilder\n",
    "from data_generator import DataGenerator\n",
    "from sklearn.metrics import confusion_matrix"
   ]
  },
  {
   "cell_type": "markdown",
   "metadata": {},
   "source": [
    "### GPU availability"
   ]
  },
  {
   "cell_type": "code",
   "execution_count": 2,
   "metadata": {},
   "outputs": [
    {
     "name": "stdout",
     "output_type": "stream",
     "text": [
      "[[22. 28.]\n",
      " [49. 64.]]\n"
     ]
    }
   ],
   "source": [
    "with tf.device('/gpu:0'):\n",
    "    a = tf.constant([1.0, 2.0, 3.0, 4.0, 5.0, 6.0], shape=[2, 3], name='a')\n",
    "    b = tf.constant([1.0, 2.0, 3.0, 4.0, 5.0, 6.0], shape=[3, 2], name='b')\n",
    "    c = tf.matmul(a, b)\n",
    "\n",
    "with tf.Session() as sess:\n",
    "    print (sess.run(c))"
   ]
  },
  {
   "cell_type": "markdown",
   "metadata": {},
   "source": [
    "## Configuration of keras callbacks"
   ]
  },
  {
   "cell_type": "code",
   "execution_count": 2,
   "metadata": {},
   "outputs": [],
   "source": [
    "config = configparser.ConfigParser()\n",
    "config.read('training_config.ini')\n",
    "config.sections()\n",
    "\n",
    "callbacks = []\n",
    "if json.loads(config['DEFAULT']['use_csv_logger']):\n",
    "    csv_logger = CSVLogger('testlog.csv', append=True, separator=';')\n",
    "    callbacks.append(csv_logger)\n",
    "\n",
    "if json.loads(config['DEFAULT']['use_model_checkpoint']):\n",
    "    mode    = config['model-checkpoint']['mode']\n",
    "    monitor = config['model-checkpoint']['monitor']\n",
    "    sbo     = config['model-checkpoint']['save_best_only']\n",
    "    file_p  = config['model-checkpoint']['file_path']\n",
    "    mcp_save = ModelCheckpoint(file_p, save_best_only=sbo, monitor=monitor, mode=mode)\n",
    "    callbacks.append(mcp_save)\n",
    "\n",
    "if json.loads(config['DEFAULT']['use_early_stopping']):\n",
    "    mode     = config['early-stopping']['mode']\n",
    "    monitor  = config['early-stopping']['monitor']\n",
    "    patience = json.loads(config['early-stopping']['patience'])\n",
    "    early_stopping = EarlyStopping(monitor=monitor, patience=patience, mode=mode)\n",
    "    callbacks.append(early_stopping)\n",
    "\n",
    "if json.loads(config['DEFAULT']['use_reduce_lr_loss']):\n",
    "    mode     = config['reduce-lr-loss']['mode']\n",
    "    monitor  = config['reduce-lr-loss']['monitor']\n",
    "    factor   = json.loads(config['reduce-lr-loss']['factor'])\n",
    "    patience = json.loads(config['reduce-lr-loss']['patience'])\n",
    "    eps      = json.loads(config['reduce-lr-loss']['epsilon'])\n",
    "    reduce_lr_loss = ReduceLROnPlateau(monitor=monitor, factor=factor, patience=patience, epsilon=eps, mode=mode)\n",
    "    callbacks.append(reduce_lr_loss)"
   ]
  },
  {
   "cell_type": "markdown",
   "metadata": {},
   "source": [
    "## Setting up data and parameters"
   ]
  },
  {
   "cell_type": "code",
   "execution_count": 3,
   "metadata": {},
   "outputs": [],
   "source": [
    "# Default configdata\n",
    "train_data_dir = config['DEFAULT']['train_data']\n",
    "test_data_dir  = config['DEFAULT']['test_data']\n",
    "classes        = json.loads(config['DEFAULT']['classes'])\n",
    "\n",
    "# Model-parameters configdata TODO - Maybe change the val-range implementation\n",
    "curr_model  = config['model-parameters']['model']\n",
    "data_shape  = json.loads(config['model-parameters']['input_shape'])\n",
    "n_channels  = json.loads(config['model-parameters']['n_channels'])\n",
    "input_shape = tuple(data_shape + [n_channels])\n",
    "\n",
    "#Optimizer-hyperparameters configdata\n",
    "optimizer  = config['optimizer-hyperparameters']['optimizer']\n",
    "loss       = config['optimizer-hyperparameters']['loss']\n",
    "lr         = json.loads(config['optimizer-hyperparameters']['learning_rate'])\n",
    "\n",
    "batch_size = json.loads(config['optimizer-hyperparameters']['batch_size'])\n",
    "epochs     = json.loads(config['optimizer-hyperparameters']['epochs'])\n",
    "steps      = json.loads(config['optimizer-hyperparameters']['steps_per_epoch'])\n",
    "metrics    = json.loads(config['optimizer-hyperparameters']['metrics'])"
   ]
  },
  {
   "cell_type": "markdown",
   "metadata": {},
   "source": [
    "## Model training"
   ]
  },
  {
   "cell_type": "code",
   "execution_count": 4,
   "metadata": {
    "collapsed": true,
    "jupyter": {
     "outputs_hidden": true
    }
   },
   "outputs": [
    {
     "name": "stdout",
     "output_type": "stream",
     "text": [
      "(128, 128, 4)\n",
      "WARNING:tensorflow:From /usr/local/lib/python3.5/dist-packages/tensorflow_core/python/ops/resource_variable_ops.py:1630: calling BaseResourceVariable.__init__ (from tensorflow.python.ops.resource_variable_ops) with constraint is deprecated and will be removed in a future version.\n",
      "Instructions for updating:\n",
      "If using Keras pass *_constraint arguments to layers.\n",
      "WARNING:tensorflow:From /usr/local/lib/python3.5/dist-packages/keras/backend/tensorflow_backend.py:4070: The name tf.nn.max_pool is deprecated. Please use tf.nn.max_pool2d instead.\n",
      "\n",
      "Model: \"vgg16_bn\"\n",
      "_________________________________________________________________\n",
      "Layer (type)                 Output Shape              Param #   \n",
      "=================================================================\n",
      "input_1 (InputLayer)         (None, 128, 128, 4)       0         \n",
      "_________________________________________________________________\n",
      "block1_conv1 (Conv2D)        (None, 128, 128, 64)      2368      \n",
      "_________________________________________________________________\n",
      "block1_bn1 (BatchNormalizati (None, 128, 128, 64)      256       \n",
      "_________________________________________________________________\n",
      "block1_act1 (Activation)     (None, 128, 128, 64)      0         \n",
      "_________________________________________________________________\n",
      "block1_dropout1 (Dropout)    (None, 128, 128, 64)      0         \n",
      "_________________________________________________________________\n",
      "block1_conv2 (Conv2D)        (None, 128, 128, 64)      36928     \n",
      "_________________________________________________________________\n",
      "block1_bn2 (BatchNormalizati (None, 128, 128, 64)      256       \n",
      "_________________________________________________________________\n",
      "block1_act2 (Activation)     (None, 128, 128, 64)      0         \n",
      "_________________________________________________________________\n",
      "block1_dropout2 (Dropout)    (None, 128, 128, 64)      0         \n",
      "_________________________________________________________________\n",
      "block1_pool (MaxPooling2D)   (None, 64, 64, 64)        0         \n",
      "_________________________________________________________________\n",
      "block2_conv1 (Conv2D)        (None, 64, 64, 128)       73856     \n",
      "_________________________________________________________________\n",
      "block2_bn1 (BatchNormalizati (None, 64, 64, 128)       512       \n",
      "_________________________________________________________________\n",
      "block2_act1 (Activation)     (None, 64, 64, 128)       0         \n",
      "_________________________________________________________________\n",
      "block2_dropout1 (Dropout)    (None, 64, 64, 128)       0         \n",
      "_________________________________________________________________\n",
      "block2_conv2 (Conv2D)        (None, 64, 64, 128)       147584    \n",
      "_________________________________________________________________\n",
      "block2_bn2 (BatchNormalizati (None, 64, 64, 128)       512       \n",
      "_________________________________________________________________\n",
      "block2_act2 (Activation)     (None, 64, 64, 128)       0         \n",
      "_________________________________________________________________\n",
      "block2_dropout2 (Dropout)    (None, 64, 64, 128)       0         \n",
      "_________________________________________________________________\n",
      "block2_pool (MaxPooling2D)   (None, 32, 32, 128)       0         \n",
      "_________________________________________________________________\n",
      "block3_conv1 (Conv2D)        (None, 32, 32, 256)       295168    \n",
      "_________________________________________________________________\n",
      "block3_bn1 (BatchNormalizati (None, 32, 32, 256)       1024      \n",
      "_________________________________________________________________\n",
      "block3_act1 (Activation)     (None, 32, 32, 256)       0         \n",
      "_________________________________________________________________\n",
      "block3_dropout1 (Dropout)    (None, 32, 32, 256)       0         \n",
      "_________________________________________________________________\n",
      "block3_conv2 (Conv2D)        (None, 32, 32, 256)       590080    \n",
      "_________________________________________________________________\n",
      "block3_bn2 (BatchNormalizati (None, 32, 32, 256)       1024      \n",
      "_________________________________________________________________\n",
      "block3_act2 (Activation)     (None, 32, 32, 256)       0         \n",
      "_________________________________________________________________\n",
      "block3_dropout2 (Dropout)    (None, 32, 32, 256)       0         \n",
      "_________________________________________________________________\n",
      "block3_conv3 (Conv2D)        (None, 32, 32, 256)       590080    \n",
      "_________________________________________________________________\n",
      "block3_bn3 (BatchNormalizati (None, 32, 32, 256)       1024      \n",
      "_________________________________________________________________\n",
      "block3_act3 (Activation)     (None, 32, 32, 256)       0         \n",
      "_________________________________________________________________\n",
      "block3_dropout3 (Dropout)    (None, 32, 32, 256)       0         \n",
      "_________________________________________________________________\n",
      "block3_pool (MaxPooling2D)   (None, 16, 16, 256)       0         \n",
      "_________________________________________________________________\n",
      "block4_conv1 (Conv2D)        (None, 16, 16, 512)       1180160   \n",
      "_________________________________________________________________\n",
      "block4_bn1 (BatchNormalizati (None, 16, 16, 512)       2048      \n",
      "_________________________________________________________________\n",
      "block4_act1 (Activation)     (None, 16, 16, 512)       0         \n",
      "_________________________________________________________________\n",
      "block4_dropout1 (Dropout)    (None, 16, 16, 512)       0         \n",
      "_________________________________________________________________\n",
      "block4_conv2 (Conv2D)        (None, 16, 16, 512)       2359808   \n",
      "_________________________________________________________________\n",
      "block4_bn2 (BatchNormalizati (None, 16, 16, 512)       2048      \n",
      "_________________________________________________________________\n",
      "block4_act2 (Activation)     (None, 16, 16, 512)       0         \n",
      "_________________________________________________________________\n",
      "block4_dropout2 (Dropout)    (None, 16, 16, 512)       0         \n",
      "_________________________________________________________________\n",
      "block4_conv3 (Conv2D)        (None, 16, 16, 512)       2359808   \n",
      "_________________________________________________________________\n",
      "block4_bn3 (BatchNormalizati (None, 16, 16, 512)       2048      \n",
      "_________________________________________________________________\n",
      "block4_act3 (Activation)     (None, 16, 16, 512)       0         \n",
      "_________________________________________________________________\n",
      "block4_dropout3 (Dropout)    (None, 16, 16, 512)       0         \n",
      "_________________________________________________________________\n",
      "block4_pool (MaxPooling2D)   (None, 8, 8, 512)         0         \n",
      "_________________________________________________________________\n",
      "block5_conv1 (Conv2D)        (None, 8, 8, 512)         2359808   \n",
      "_________________________________________________________________\n",
      "block5_bn1 (BatchNormalizati (None, 8, 8, 512)         2048      \n",
      "_________________________________________________________________\n",
      "block5_act1 (Activation)     (None, 8, 8, 512)         0         \n",
      "_________________________________________________________________\n",
      "block5_dropout1 (Dropout)    (None, 8, 8, 512)         0         \n",
      "_________________________________________________________________\n",
      "block5_conv2 (Conv2D)        (None, 8, 8, 512)         2359808   \n",
      "_________________________________________________________________\n",
      "block5_bn2 (BatchNormalizati (None, 8, 8, 512)         2048      \n",
      "_________________________________________________________________\n",
      "block5_act2 (Activation)     (None, 8, 8, 512)         0         \n",
      "_________________________________________________________________\n",
      "block5_dropout2 (Dropout)    (None, 8, 8, 512)         0         \n",
      "_________________________________________________________________\n",
      "block5_conv3 (Conv2D)        (None, 8, 8, 512)         2359808   \n",
      "_________________________________________________________________\n",
      "block5_bn3 (BatchNormalizati (None, 8, 8, 512)         2048      \n",
      "_________________________________________________________________\n",
      "block5_act3 (Activation)     (None, 8, 8, 512)         0         \n",
      "_________________________________________________________________\n",
      "block5_dropout3 (Dropout)    (None, 8, 8, 512)         0         \n",
      "_________________________________________________________________\n",
      "block5_pool (MaxPooling2D)   (None, 4, 4, 512)         0         \n",
      "_________________________________________________________________\n",
      "global_average_pooling2d_1 ( (None, 512)               0         \n",
      "_________________________________________________________________\n",
      "fc1 (Dense)                  (None, 4096)              2101248   \n",
      "_________________________________________________________________\n",
      "fc1_bn (BatchNormalization)  (None, 4096)              16384     \n",
      "_________________________________________________________________\n",
      "fc1_act (Activation)         (None, 4096)              0         \n",
      "_________________________________________________________________\n",
      "fc1_dropout (Dropout)        (None, 4096)              0         \n",
      "_________________________________________________________________\n",
      "fc2 (Dense)                  (None, 4096)              16781312  \n",
      "_________________________________________________________________\n",
      "fc2_bn (BatchNormalization)  (None, 4096)              16384     \n",
      "_________________________________________________________________\n",
      "fc2_act (Activation)         (None, 4096)              0         \n",
      "_________________________________________________________________\n",
      "fc2_dropout (Dropout)        (None, 4096)              0         \n",
      "_________________________________________________________________\n",
      "predictions (Dense)          (None, 6)                 24582     \n",
      "=================================================================\n",
      "Total params: 33,672,070\n",
      "Trainable params: 33,647,238\n",
      "Non-trainable params: 24,832\n",
      "_________________________________________________________________\n",
      "WARNING:tensorflow:From /usr/local/lib/python3.5/dist-packages/keras/backend/tensorflow_backend.py:422: The name tf.global_variables is deprecated. Please use tf.compat.v1.global_variables instead.\n",
      "\n"
     ]
    },
    {
     "name": "stderr",
     "output_type": "stream",
     "text": [
      "/usr/local/lib/python3.5/dist-packages/rasterio/__init__.py:219: NotGeoreferencedWarning: Dataset has no geotransform set. The identity matrix may be returned.\n",
      "  s = DatasetReader(path, driver=driver, sharing=sharing, **kwargs)\n"
     ]
    },
    {
     "name": "stdout",
     "output_type": "stream",
     "text": [
      "Epoch 1/50\n",
      "25/25 [==============================] - 17s 672ms/step - loss: 1.3912 - acc: 0.4981 - val_loss: 1.4005 - val_acc: 0.5412\n",
      "Epoch 2/50\n",
      "25/25 [==============================] - 10s 399ms/step - loss: 1.2133 - acc: 0.5344 - val_loss: 0.9216 - val_acc: 0.5456\n",
      "Epoch 3/50\n",
      "25/25 [==============================] - 10s 405ms/step - loss: 1.2536 - acc: 0.5462 - val_loss: 1.2888 - val_acc: 0.4275\n",
      "Epoch 4/50\n",
      "25/25 [==============================] - 9s 353ms/step - loss: 1.1623 - acc: 0.5606 - val_loss: 1.4441 - val_acc: 0.5094\n",
      "Epoch 5/50\n",
      "25/25 [==============================] - 10s 418ms/step - loss: 1.1278 - acc: 0.5688 - val_loss: 1.9245 - val_acc: 0.4306\n",
      "Epoch 6/50\n",
      "25/25 [==============================] - 10s 417ms/step - loss: 1.1821 - acc: 0.5431 - val_loss: 1.2017 - val_acc: 0.5869\n",
      "Epoch 7/50\n",
      "25/25 [==============================] - 10s 418ms/step - loss: 1.0920 - acc: 0.5894 - val_loss: 0.9612 - val_acc: 0.6012\n",
      "Epoch 8/50\n",
      "25/25 [==============================] - 10s 381ms/step - loss: 1.0865 - acc: 0.5894 - val_loss: 0.8764 - val_acc: 0.5888\n",
      "Epoch 9/50\n",
      "25/25 [==============================] - 10s 396ms/step - loss: 1.0051 - acc: 0.6106 - val_loss: 0.9798 - val_acc: 0.6388\n",
      "Epoch 10/50\n",
      "25/25 [==============================] - 10s 397ms/step - loss: 1.1014 - acc: 0.5838 - val_loss: 1.1222 - val_acc: 0.5550\n",
      "Epoch 11/50\n",
      "25/25 [==============================] - 9s 352ms/step - loss: 1.0468 - acc: 0.6006 - val_loss: 1.8679 - val_acc: 0.5163\n",
      "Epoch 12/50\n",
      "25/25 [==============================] - 10s 419ms/step - loss: 1.0249 - acc: 0.6175 - val_loss: 0.9029 - val_acc: 0.5781\n",
      "Epoch 13/50\n",
      "25/25 [==============================] - 10s 412ms/step - loss: 0.9806 - acc: 0.6313 - val_loss: 0.7356 - val_acc: 0.6569\n",
      "Epoch 14/50\n",
      "25/25 [==============================] - 10s 414ms/step - loss: 0.9951 - acc: 0.6419 - val_loss: 0.7143 - val_acc: 0.6869\n",
      "Epoch 15/50\n",
      "25/25 [==============================] - 10s 384ms/step - loss: 0.9140 - acc: 0.6475 - val_loss: 1.2307 - val_acc: 0.5650\n",
      "Epoch 16/50\n",
      "25/25 [==============================] - 11s 433ms/step - loss: 0.9125 - acc: 0.6587 - val_loss: 0.7461 - val_acc: 0.7131\n",
      "Epoch 17/50\n",
      "25/25 [==============================] - 10s 392ms/step - loss: 0.8563 - acc: 0.6831 - val_loss: 1.6673 - val_acc: 0.4638\n",
      "Epoch 18/50\n",
      "25/25 [==============================] - 9s 349ms/step - loss: 0.8331 - acc: 0.6906 - val_loss: 0.8391 - val_acc: 0.6319\n",
      "Epoch 19/50\n",
      "25/25 [==============================] - 11s 422ms/step - loss: 0.8326 - acc: 0.6781 - val_loss: 0.8482 - val_acc: 0.6931\n",
      "Epoch 20/50\n",
      "25/25 [==============================] - 10s 417ms/step - loss: 0.7868 - acc: 0.7212 - val_loss: 0.6893 - val_acc: 0.6644\n",
      "Epoch 21/50\n",
      "25/25 [==============================] - 10s 407ms/step - loss: 0.7835 - acc: 0.6994 - val_loss: 0.8009 - val_acc: 0.6906\n",
      "Epoch 22/50\n",
      "25/25 [==============================] - 10s 382ms/step - loss: 0.7148 - acc: 0.7419 - val_loss: 3.2288 - val_acc: 0.5113\n",
      "Epoch 23/50\n",
      "25/25 [==============================] - 11s 426ms/step - loss: 0.7308 - acc: 0.7312 - val_loss: 0.4560 - val_acc: 0.7781\n",
      "Epoch 24/50\n",
      "25/25 [==============================] - 11s 431ms/step - loss: 0.6964 - acc: 0.7306 - val_loss: 0.8544 - val_acc: 0.5781\n",
      "Epoch 25/50\n",
      "25/25 [==============================] - 9s 353ms/step - loss: 0.6397 - acc: 0.7569 - val_loss: 0.4672 - val_acc: 0.7744\n",
      "Epoch 26/50\n",
      "25/25 [==============================] - 11s 420ms/step - loss: 0.6235 - acc: 0.7700 - val_loss: 1.0450 - val_acc: 0.6069\n",
      "Epoch 27/50\n",
      "25/25 [==============================] - 10s 407ms/step - loss: 0.5713 - acc: 0.7925 - val_loss: 1.2974 - val_acc: 0.5587\n",
      "Epoch 28/50\n",
      "25/25 [==============================] - 10s 405ms/step - loss: 0.5877 - acc: 0.7862 - val_loss: 1.6249 - val_acc: 0.4900\n",
      "Epoch 29/50\n",
      "25/25 [==============================] - 10s 385ms/step - loss: 0.5279 - acc: 0.8019 - val_loss: 1.2238 - val_acc: 0.6719\n",
      "Epoch 30/50\n",
      "25/25 [==============================] - 11s 421ms/step - loss: 0.5406 - acc: 0.8138 - val_loss: 0.9116 - val_acc: 0.6844\n",
      "Epoch 31/50\n",
      "25/25 [==============================] - 11s 422ms/step - loss: 0.4888 - acc: 0.8200 - val_loss: 1.0284 - val_acc: 0.6888\n",
      "Epoch 32/50\n",
      "25/25 [==============================] - 9s 373ms/step - loss: 0.4973 - acc: 0.8250 - val_loss: 0.4927 - val_acc: 0.7763\n",
      "Epoch 33/50\n",
      "25/25 [==============================] - 11s 422ms/step - loss: 0.4210 - acc: 0.8419 - val_loss: 1.2528 - val_acc: 0.6506\n",
      "Epoch 34/50\n",
      "25/25 [==============================] - 10s 398ms/step - loss: 0.4922 - acc: 0.8231 - val_loss: 2.1320 - val_acc: 0.6144\n",
      "Epoch 35/50\n",
      "25/25 [==============================] - 10s 401ms/step - loss: 0.3972 - acc: 0.8600 - val_loss: 1.2330 - val_acc: 0.7019\n",
      "Epoch 36/50\n",
      "25/25 [==============================] - 10s 381ms/step - loss: 0.3844 - acc: 0.8644 - val_loss: 0.9683 - val_acc: 0.7469\n",
      "Epoch 37/50\n",
      "25/25 [==============================] - 10s 414ms/step - loss: 0.4122 - acc: 0.8550 - val_loss: 1.3885 - val_acc: 0.6775\n",
      "Epoch 38/50\n",
      "25/25 [==============================] - 10s 417ms/step - loss: 0.3967 - acc: 0.8512 - val_loss: 2.1948 - val_acc: 0.4800\n",
      "Epoch 39/50\n",
      "25/25 [==============================] - 9s 366ms/step - loss: 0.3796 - acc: 0.8694 - val_loss: 2.3646 - val_acc: 0.5938\n",
      "Epoch 40/50\n",
      "25/25 [==============================] - 11s 438ms/step - loss: 0.3879 - acc: 0.8587 - val_loss: 0.6255 - val_acc: 0.8269\n",
      "Epoch 41/50\n",
      "25/25 [==============================] - 10s 393ms/step - loss: 0.3526 - acc: 0.8637 - val_loss: 1.7291 - val_acc: 0.5881\n",
      "Epoch 42/50\n",
      "25/25 [==============================] - 10s 397ms/step - loss: 0.2932 - acc: 0.8913 - val_loss: 0.9281 - val_acc: 0.6869\n",
      "Epoch 43/50\n",
      "25/25 [==============================] - 9s 378ms/step - loss: 0.3351 - acc: 0.8863 - val_loss: 0.8908 - val_acc: 0.6569\n"
     ]
    }
   ],
   "source": [
    "model = ModelBuilder(curr_model, classes, input_shape=input_shape)\n",
    "\n",
    "'Load pre-trained weights if wanted'\n",
    "if json.loads(config['DEFAULT']['use_load_weights']):\n",
    "    weight_folder = config['load-weights']['weights_folder']\n",
    "    weights       = config['load-weights']['weights']\n",
    "    model.load_weights(os.path.join(weight_folder, weights))\n",
    "\n",
    "train_data = os.listdir(train_data_dir)\n",
    "data_len   = len(train_data)\n",
    "\n",
    "random.shuffle(train_data)\n",
    "\n",
    "val_range  = json.loads(config['model-parameters']['val_range'])\n",
    "train_data = train_data[int(data_len * val_range) + 1:]\n",
    "val_data   = train_data[:int(data_len * val_range)]\n",
    "\n",
    "train_datagen = DataGenerator(train_data_dir, train_data, classes, \n",
    "                              n_channels=n_channels, dim=data_shape, \n",
    "                              batch_size=batch_size, rescale=255)\n",
    "\n",
    "val_datagen = DataGenerator(train_data_dir, val_data, classes,\n",
    "                            n_channels=n_channels, dim=data_shape, \n",
    "                            batch_size=batch_size, rescale=255)\n",
    "\n",
    "model.compile_model(optimizer=optimizer, \n",
    "                    loss=loss, \n",
    "                    metrics=metrics, \n",
    "                    learning_rate=lr)\n",
    "\n",
    "history = model.fit_model(\n",
    "          train_gen=train_datagen,\n",
    "          val_gen=val_datagen,\n",
    "          steps_per_epoch=steps, \n",
    "          val_steps_per_epoch=steps,\n",
    "          epochs=epochs,\n",
    "          callbacks=callbacks)"
   ]
  },
  {
   "cell_type": "markdown",
   "metadata": {},
   "source": [
    "# Model evaluation"
   ]
  },
  {
   "cell_type": "markdown",
   "metadata": {},
   "source": [
    "### Class count"
   ]
  },
  {
   "cell_type": "code",
   "execution_count": 16,
   "metadata": {},
   "outputs": [
    {
     "name": "stdout",
     "output_type": "stream",
     "text": [
      "1552 {'parking': 260, 'parque': 283, 'industrial': 219, 'commercial': 217, 'forest': 285, 'residential': 288}\n"
     ]
    }
   ],
   "source": [
    "cnt = {}\n",
    "i = 0\n",
    "for c in classes:\n",
    "    cnt[c] = 0\n",
    "    \n",
    "files = test_data\n",
    "\n",
    "for f in files:\n",
    "    i+=1\n",
    "    for c in classes:\n",
    "        if c in f:\n",
    "            cnt[c] += 1\n",
    "\n",
    "print(i, cnt)"
   ]
  },
  {
   "cell_type": "markdown",
   "metadata": {},
   "source": [
    "## Test data prediction\n",
    "\n",
    "Running prediction on the best weights for the current model"
   ]
  },
  {
   "cell_type": "code",
   "execution_count": 17,
   "metadata": {},
   "outputs": [
    {
     "name": "stdout",
     "output_type": "stream",
     "text": [
      "(128, 128, 4)\n",
      "1552/1552 [==============================] - 11s 7ms/step\n"
     ]
    }
   ],
   "source": [
    "model = ModelBuilder(curr_model, classes, input_shape=input_shape)\n",
    "\n",
    "'Loading the best weights for the trained model to be evaluated'\n",
    "weight_folder = config['load-weights']['weights_folder']\n",
    "weights =  config['load-weights']['weights']\n",
    "model.load_weights(os.path.join(weight_folder, weights))\n",
    "\n",
    "train_data = os.listdir(train_data_dir)\n",
    "data_len   = len(train_data)\n",
    "\n",
    "random.shuffle(train_data)\n",
    "\n",
    "val_range  = json.loads(config['model-parameters']['val_range'])\n",
    "train_data = train_data[int(data_len * val_range) + 1:]\n",
    "val_data   = train_data[:int(data_len * val_range)]\n",
    "\n",
    "val_datagen = DataGenerator(train_data_dir, val_data, classes, test=True,\n",
    "                             n_channels=n_channels, dim=data_shape, \n",
    "                             batch_size=5)\n",
    "test_data = os.listdir(test_data_dir)\n",
    "test_datagen = DataGenerator(test_data_dir, test_data, classes, test=True, \n",
    "                            n_channels=n_channels, dim=data_shape, \n",
    "                            batch_size=1)\n",
    "            \n",
    "'Getting predictions: n_classes probabilities per input'\n",
    "probabilities = model.predict(test_datagen, 1552)\n",
    "\n",
    "'Getting the chosen class prediction for each input.'\n",
    "predicted_class_indices=np.argmax(probabilities, axis=1) # Using argmax as rule, thereby always getting a prediction\n",
    "prediction = pd.DataFrame(predicted_class_indices, columns=['predictions']).to_csv('vgg_predictions.csv') # Save to CSV\n",
    "\n",
    "'Getting the actual label for each prediction'\n",
    "labels = (test_datagen.classes)\n",
    "predicted_class = [labels[k] for k in predicted_class_indices]"
   ]
  },
  {
   "cell_type": "markdown",
   "metadata": {},
   "source": [
    "## Reviewing the results\n",
    "\n",
    "Plotting confusion matrix and looking at the counts of the true labels and predicted labels.\n",
    "\n",
    "TODO - Do not hardcode the stuff that is hardcoded."
   ]
  },
  {
   "cell_type": "code",
   "execution_count": 18,
   "metadata": {},
   "outputs": [
    {
     "name": "stdout",
     "output_type": "stream",
     "text": [
      "1552 {'parking': 260, 'parque': 283, 'industrial': 219, 'commercial': 217, 'forest': 285, 'residential': 288}\n",
      "1552 {'parking': 20, 'parque': 0, 'industrial': 3, 'commercial': 1525, 'forest': 0, 'residential': 4}\n",
      "1552 1552\n",
      "[[216 219 280 275 252 283]\n",
      " [  0   0   0   1   2   0]\n",
      " [  0   0   1   0   1   2]\n",
      " [  0   0   0   0   0   0]\n",
      " [  1   0   7   7   5   0]\n",
      " [  0   0   0   0   0   0]]\n",
      "['commercial', 'commercial', 'commercial', 'commercial', 'commercial', 'commercial', 'commercial', 'commercial', 'commercial', 'commercial']\n",
      "['parque', 'forest', 'forest', 'forest', 'industrial', 'industrial', 'residential', 'industrial', 'commercial', 'parking']\n"
     ]
    },
    {
     "data": {
      "text/plain": [
       "<matplotlib.axes._subplots.AxesSubplot at 0x7ff5750955f8>"
      ]
     },
     "execution_count": 18,
     "metadata": {},
     "output_type": "execute_result"
    },
    {
     "data": {
      "image/png": "[encoded data removed]",
      "text/plain": [
       "<Figure size 432x432 with 2 Axes>"
      ]
     },
     "metadata": {
      "needs_background": "light"
     },
     "output_type": "display_data"
    }
   ],
   "source": [
    "'Getting the true labels for the data predicted on'\n",
    "#images = os.listdir(test_data_dir)\n",
    "images = test_data\n",
    "#images = images[:1500]\n",
    "\n",
    "true_class         = []\n",
    "true_class_indices = []\n",
    "#images = os.listdir(test_data)\n",
    "for i in range(len(images)):\n",
    "    for k in range(len(classes)):\n",
    "        if classes[k] in images[i]:\n",
    "            true_class_indices.append(k)\n",
    "            true_class.append(classes[k])\n",
    "\n",
    "'Getting the count of each true label'\n",
    "cnt = {}\n",
    "for c in classes:\n",
    "    cnt[c] = 0\n",
    "    \n",
    "for f in true_class:\n",
    "    for c in classes:\n",
    "        if c in f:\n",
    "            cnt[c] += 1\n",
    "\n",
    "print(len(true_class), cnt)\n",
    "\n",
    "'Getting the count of predicted class'\n",
    "cnt = {}\n",
    "for c in classes:\n",
    "    cnt[c] = 0\n",
    "    \n",
    "for f in predicted_class:\n",
    "    for c in classes:\n",
    "        if c in f:\n",
    "            cnt[c] += 1\n",
    "\n",
    "print(len(predicted_class), cnt)\n",
    "\n",
    "'Check to see that the predicted amount is right'\n",
    "print(len(true_class), len(predicted_class))\n",
    "assert len(true_class) == len(predicted_class)\n",
    "\n",
    "'Confusion matrix for the data'\n",
    "conf_matrix = confusion_matrix(predicted_class_indices, true_class_indices)\n",
    "print(conf_matrix)\n",
    "print(predicted_class[0:10])\n",
    "print(true_class[0:10])\n",
    "\n",
    "'Plotting the confusion matrix'\n",
    "df_cm = pd.DataFrame(conf_matrix, index = [i for i in classes],\n",
    "                  columns = [i for i in classes])\n",
    "\n",
    "plt.figure(figsize = (6, 6))\n",
    "sn.heatmap(df_cm, annot=True)"
   ]
  },
  {
   "cell_type": "markdown",
   "metadata": {},
   "source": [
    "## Keras evaluation generator\n",
    "\n",
    "Using the keras evaluator to get test loss and test accuracy.\n",
    "\n",
    "Perhaps just do it ourselves with the information provided from above?"
   ]
  },
  {
   "cell_type": "code",
   "execution_count": 15,
   "metadata": {},
   "outputs": [
    {
     "name": "stdout",
     "output_type": "stream",
     "text": [
      "(128, 128, 4)\n",
      "(128, 128, 4)\n",
      "113/113 [==============================] - 2s 20ms/step\n",
      "[5734.47021484375, 0.16106194257736206]\n"
     ]
    }
   ],
   "source": [
    "model = ModelBuilder(curr_model, classes, input_shape=input_shape)\n",
    "\n",
    "model = ModelBuilder(curr_model, classes, input_shape=input_shape)\n",
    "\n",
    "'Loading the best weights for the trained model to be evaluated'\n",
    "weight_folder = config['load-weights']['weights_folder']\n",
    "weights =  config['load-weights']['weights']\n",
    "model.load_weights(os.path.join(weight_folder, weights))\n",
    "\n",
    "model.compile_model(optimizer=optimizer, \n",
    "                    loss=loss, \n",
    "                    metrics=metrics, \n",
    "                    learning_rate=lr)\n",
    "\n",
    "test_datagen = DataGenerator(test_data_dir, test_data, classes,\n",
    "                             n_channels=n_channels, dim=data_shape, \n",
    "                             batch_size=1, shuffle=False)\n",
    "\n",
    "val_datagen = DataGenerator(train_data_dir, val_data, classes, \n",
    "                            n_channels=n_channels, dim=data_shape, \n",
    "                            batch_size=5)\n",
    "\n",
    "\n",
    "'Testing keras evaluate'\n",
    "scores = model.evaluate(val_datagen, 113)\n",
    "print(scores)"
   ]
  },
  {
   "cell_type": "code",
   "execution_count": null,
   "metadata": {},
   "outputs": [],
   "source": []
  }
 ],
 "metadata": {
  "kernelspec": {
   "display_name": "Python 3",
   "language": "python",
   "name": "python3"
  },
  "language_info": {
   "codemirror_mode": {
    "name": "ipython",
    "version": 3
   },
   "file_extension": ".py",
   "mimetype": "text/x-python",
   "name": "python",
   "nbconvert_exporter": "python",
   "pygments_lexer": "ipython3",
   "version": "3.5.3"
  }
 },
 "nbformat": 4,
 "nbformat_minor": 4
}
